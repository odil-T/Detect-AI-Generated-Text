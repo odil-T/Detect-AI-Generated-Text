{
 "cells": [
  {
   "cell_type": "code",
   "execution_count": null,
   "id": "4683df66-2c17-461b-8932-ac0cc11b3261",
   "metadata": {},
   "outputs": [],
   "source": [
    "# This file compiles all the.csv data files and then processes them to be used by vectorizers."
   ]
  },
  {
   "cell_type": "code",
   "execution_count": 2,
   "id": "968f255b-d49a-4bc6-81e9-4c0eb4cd7f47",
   "metadata": {},
   "outputs": [],
   "source": [
    "nlp = spacy.load('en_core_web_md')\n",
    "\n",
    "def preprocess(text):\n",
    "    '''Removes punctuation from a given text and performs lemmatization.'''\n",
    "    doc = nlp(text)\n",
    "    selected_tokens = []\n",
    "    for token in doc:\n",
    "        if not token.is_punct:\n",
    "            selected_tokens.append(token.lemma_)\n",
    "    return ' '.join(selected_tokens)"
   ]
  },
  {
   "cell_type": "code",
   "execution_count": 3,
   "id": "02c5219b-b2b1-4ff8-a6db-aee16e2fa657",
   "metadata": {},
   "outputs": [],
   "source": [
    "data1 = pd.read_csv('data/train_essays.csv')\n",
    "data2 = pd.read_csv('data/train_essays_chatgpt_manual.csv')\n",
    "data3 = pd.read_csv('data/train_essays_gpt-3.5-turbo_automatic.csv')\n",
    "data4 = pd.read_csv('data/train_essays_gpt-4_automatic.csv')\n",
    "\n",
    "data = pd.concat([data1, data2, data3, data4], ignore_index=True).drop('id', axis=1)\n",
    "\n",
    "data['processed_text'] = data.text.apply(preprocess)"
   ]
  },
  {
   "cell_type": "code",
   "execution_count": 4,
   "id": "b363603f-60e9-46c9-a3cb-3d469e3898cd",
   "metadata": {},
   "outputs": [],
   "source": [
    "train_data, test_data = train_test_split(data, stratify=data.generated, \n",
    "                                         random_state=10, test_size=0.2\n",
    "                                        )"
   ]
  },
  {
   "cell_type": "code",
   "execution_count": 5,
   "id": "be576366-2470-495c-869d-4f7e7fec637e",
   "metadata": {},
   "outputs": [],
   "source": [
    "train_data.to_csv('data/compiled_processed_train_data.csv')\n",
    "test_data.to_csv('data/compiled_processed_test_data.csv')"
   ]
  }
 ],
 "metadata": {
  "kernelspec": {
   "display_name": "venv",
   "language": "python",
   "name": "venv"
  },
  "language_info": {
   "codemirror_mode": {
    "name": "ipython",
    "version": 3
   },
   "file_extension": ".py",
   "mimetype": "text/x-python",
   "name": "python",
   "nbconvert_exporter": "python",
   "pygments_lexer": "ipython3",
   "version": "3.11.3"
  }
 },
 "nbformat": 4,
 "nbformat_minor": 5
}
