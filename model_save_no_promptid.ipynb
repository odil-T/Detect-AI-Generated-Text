{
 "cells": [
  {
   "cell_type": "code",
   "execution_count": 1,
   "id": "fc9a8e48-f29b-4e93-94ae-d0cd841ee1ea",
   "metadata": {},
   "outputs": [],
   "source": [
    "# This file trains and saves the Gradient Boosting model with Word2Vec text representation."
   ]
  },
  {
   "cell_type": "code",
   "execution_count": 1,
   "id": "56155603-5223-46d1-9fb0-72c48c0cb5ba",
   "metadata": {
    "tags": []
   },
   "outputs": [],
   "source": [
    "import pandas as pd\n",
    "import spacy\n",
    "import numpy as np\n",
    "import joblib\n",
    "from sklearn.ensemble import GradientBoostingClassifier\n",
    "from sklearn.metrics import classification_report\n",
    "\n",
    "nlp = spacy.load('en_core_web_md')"
   ]
  },
  {
   "cell_type": "code",
   "execution_count": 2,
   "id": "dee21b5e-4fa6-4799-84da-c75163b7de1b",
   "metadata": {},
   "outputs": [],
   "source": [
    "# loading data and adding text representation column\n",
    "train_data = pd.read_csv('data/compiled_processed_train_data.csv')\n",
    "test_data = pd.read_csv('data/compiled_processed_test_data.csv')\n",
    "\n",
    "for data in (train_data, test_data):\n",
    "    data['word2vec_doc'] = data['text'].apply(lambda text: nlp(text).vector)\n",
    "\n",
    "X_train = train_data['word2vec_doc'].apply(pd.Series)\n",
    "X_test = test_data['word2vec_doc'].apply(pd.Series)\n",
    "X_train.columns = X_train.columns.astype(str)\n",
    "X_test.columns = X_test.columns.astype(str)\n",
    "\n",
    "y_train = train_data.generated\n",
    "y_test = test_data.generated"
   ]
  },
  {
   "cell_type": "code",
   "execution_count": 4,
   "id": "cb2f57de-f330-457d-a609-f5ac77ee3639",
   "metadata": {},
   "outputs": [
    {
     "name": "stdout",
     "output_type": "stream",
     "text": [
      "              precision    recall  f1-score   support\n",
      "\n",
      "           0       1.00      1.00      1.00       275\n",
      "           1       0.99      0.99      0.99       161\n",
      "\n",
      "    accuracy                           1.00       436\n",
      "   macro avg       1.00      1.00      1.00       436\n",
      "weighted avg       1.00      1.00      1.00       436\n",
      "\n"
     ]
    }
   ],
   "source": [
    "model = GradientBoostingClassifier()\n",
    "\n",
    "model.fit(X_train, y_train)\n",
    "\n",
    "y_pred = model.predict(X_test)\n",
    "print(classification_report(y_test, y_pred))"
   ]
  },
  {
   "cell_type": "code",
   "execution_count": 5,
   "id": "867eed18-6be4-43a0-a23a-2094c7a4125f",
   "metadata": {},
   "outputs": [
    {
     "data": {
      "text/plain": [
       "['models/model_word2vec_GB_no_promptid.joblib']"
      ]
     },
     "execution_count": 5,
     "metadata": {},
     "output_type": "execute_result"
    }
   ],
   "source": [
    "joblib.dump(model, 'models/model_word2vec_GB_no_promptid.joblib')"
   ]
  },
  {
   "cell_type": "code",
   "execution_count": null,
   "id": "775037d4-e11d-4d28-b911-e634db18521c",
   "metadata": {},
   "outputs": [],
   "source": []
  }
 ],
 "metadata": {
  "kernelspec": {
   "display_name": "Python 3 (ipykernel)",
   "language": "python",
   "name": "python3"
  },
  "language_info": {
   "codemirror_mode": {
    "name": "ipython",
    "version": 3
   },
   "file_extension": ".py",
   "mimetype": "text/x-python",
   "name": "python",
   "nbconvert_exporter": "python",
   "pygments_lexer": "ipython3",
   "version": "3.11.3"
  }
 },
 "nbformat": 4,
 "nbformat_minor": 5
}
