{
 "cells": [
  {
   "cell_type": "code",
   "execution_count": null,
   "id": "5c46c1bb-0f8c-4f05-95d4-cab64f498b6e",
   "metadata": {},
   "outputs": [],
   "source": [
    "import spacy\n",
    "import pandas as pd\n",
    "import lightgbm as lgb\n",
    "from xgboost import XGBClassifier\n",
    "from catboost import CatBoostClassifier\n",
    "from sklearn.linear_model import LogisticRegression\n",
    "from sklearn.neighbors import KNeighborsClassifier\n",
    "from sklearn.ensemble import VotingClassifier, RandomForestClassifier, GradientBoostingClassifier\n",
    "\n",
    "nlp = spacy.load('/kaggle/input/models/en_core_web_md_model')\n",
    "\n",
    "def preprocess_text(text):\n",
    "    '''Removes punctuation, stop words, and lemmatizes the tokens.'''\n",
    "    doc = nlp(text)   \n",
    "    return ' '.join([token.lemma_ for token in doc if not token.is_punct and not token.is_stop])\n",
    "\n",
    "daigt = pd.read_csv('/kaggle/input/kaggle-llm-competition-collected-data/train_v2_drcat_02.csv')  # contains student written essays\n",
    "mistral = pd.read_csv('/kaggle/input/kaggle-llm-competition-collected-data/Mistral7B_CME_v7.csv')  # all generated\n",
    "mine = pd.read_csv('/kaggle/input/kaggle-llm-competition-collected-data/train_essays_chatgpt_manual.csv')\n",
    "\n",
    "daigt.rename(columns={'label': 'generated'}, inplace=True)\n",
    "daigt = daigt[daigt['RDizzl3_seven']==True]\n",
    "\n",
    "for df in (daigt, mistral, mine):\n",
    "    df.drop(df.columns.difference(['text', 'generated']), axis=1, inplace=True)\n",
    "\n",
    "all_data = pd.concat([daigt, mistral, mine], ignore_index=True)\n",
    "del daigt, mistral, mine\n",
    "\n",
    "def data_pipeline(df):\n",
    "    '''Input: DataFrame with `text` column and optional 'generated' column.\n",
    "       Output: Series with word2vec representation of shape (n_samples, 300) along with 'generated' Series if present.'''\n",
    "    \n",
    "    df['processed_text'] = df['text'].map(preprocess_text)\n",
    "    df.drop('text', axis=1, inplace=True)\n",
    "    \n",
    "    df['word2vec_doc'] = df['processed_text'].apply(lambda text: nlp(text).vector)\n",
    "    df.drop('processed_text', axis=1, inplace=True)\n",
    "        \n",
    "    if 'generated' in df.columns.values:\n",
    "                \n",
    "        X = df['word2vec_doc'].apply(pd.Series)\n",
    "        y = df['generated']\n",
    "\n",
    "        return X, y\n",
    "    \n",
    "    # This is for X_test.\n",
    "    return df['word2vec_doc'].apply(pd.Series)"
   ]
  },
  {
   "cell_type": "code",
   "execution_count": null,
   "id": "0ee041bc-c8bc-4b0a-847b-992f25b4edf5",
   "metadata": {},
   "outputs": [],
   "source": [
    "X, y = data_pipeline(all_data)"
   ]
  },
  {
   "cell_type": "code",
   "execution_count": null,
   "id": "114430db-5b99-44d1-9692-6babefebdee2",
   "metadata": {},
   "outputs": [],
   "source": [
    "estimators = [('lr', LogisticRegression()),\n",
    "              ('rf', RandomForestClassifier()),\n",
    "              ('knn', KNeighborsClassifier()),\n",
    "              ('gb', GradientBoostingClassifier()),\n",
    "              ('xgb', XGBClassifier(objective='binary:logistic')),\n",
    "              ('lgb', lgb.LGBMClassifier()),\n",
    "              ('cb', CatBoostClassifier(loss_function='Logloss'))\n",
    "             ]\n",
    "\n",
    "model = VotingClassifier(estimators=estimators, voting='soft', verbose=True)\n",
    "\n",
    "model.fit(X, y)"
   ]
  },
  {
   "cell_type": "code",
   "execution_count": null,
   "id": "453e2b8a-2823-4d4a-81fb-7f473008ed9e",
   "metadata": {},
   "outputs": [],
   "source": [
    "test_data = pd.read_csv('/kaggle/input/llm-detect-ai-generated-text/test_essays.csv')\n",
    "X_test = data_pipeline(test_data)\n",
    "y_test_pred = pd.Series(model.predict_proba(X_test)[:, 1], name='generated')\n",
    "\n",
    "output_df = pd.concat((test_data.id, y_test_pred), axis=1)\n",
    "output_df.to_csv('submission.csv', index=False)"
   ]
  }
 ],
 "metadata": {
  "kernelspec": {
   "display_name": "Python 3 (ipykernel)",
   "language": "python",
   "name": "python3"
  },
  "language_info": {
   "codemirror_mode": {
    "name": "ipython",
    "version": 3
   },
   "file_extension": ".py",
   "mimetype": "text/x-python",
   "name": "python",
   "nbconvert_exporter": "python",
   "pygments_lexer": "ipython3",
   "version": "3.11.3"
  }
 },
 "nbformat": 4,
 "nbformat_minor": 5
}
